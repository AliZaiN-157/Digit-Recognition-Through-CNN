{
 "cells": [
  {
   "cell_type": "code",
   "execution_count": 1,
   "metadata": {},
   "outputs": [],
   "source": [
    "#Import Libraries or dependicies\n",
    "import sys\n",
    "import tensorflow as tf"
   ]
  },
  {
   "cell_type": "code",
   "execution_count": 2,
   "metadata": {},
   "outputs": [],
   "source": [
    "#Mnist data set\n",
    "mnist = tf.keras.datasets.mnist"
   ]
  },
  {
   "cell_type": "code",
   "execution_count": 3,
   "metadata": {},
   "outputs": [
    {
     "name": "stdout",
     "output_type": "stream",
     "text": [
      "Downloading data from https://storage.googleapis.com/tensorflow/tf-keras-datasets/mnist.npz\n",
      "11493376/11490434 [==============================] - 19s 2us/step\n"
     ]
    }
   ],
   "source": [
    "# Training Data set\n",
    "(x_train, y_train), (x_test, y_test) = mnist.load_data()\n",
    "x_train, x_test = x_train / 255.0, x_test / 255.0\n",
    "y_train = tf.keras.utils.to_categorical(y_train)\n",
    "y_test = tf.keras.utils.to_categorical(y_test)\n",
    "x_train = x_train.reshape(\n",
    "    x_train.shape[0], x_train.shape[1], x_train.shape[2], 1\n",
    ")\n",
    "x_test = x_test.reshape(\n",
    "    x_test.shape[0], x_test.shape[1], x_test.shape[2], 1\n",
    ")\n"
   ]
  },
  {
   "cell_type": "code",
   "execution_count": 4,
   "metadata": {},
   "outputs": [],
   "source": [
    "#involvement of CNN (convolutional neural network)\n",
    "model = tf.keras.models.Sequential([\n",
    "\n",
    "    tf.keras.layers.Conv2D(32, (3, 3), activation=\"relu\", input_shape=(28, 28, 1)),\n",
    "\n",
    "    tf.keras.layers.MaxPooling2D(pool_size=(2, 2)),\n",
    "\n",
    "    tf.keras.layers.Flatten(),\n",
    "\n",
    "    tf.keras.layers.Dense(128, activation=\"relu\"),\n",
    "    \n",
    "    tf.keras.layers.Dropout(0.5),\n",
    "\n",
    "    tf.keras.layers.Dense(10, activation=\"softmax\")\n",
    "])\n"
   ]
  },
  {
   "cell_type": "code",
   "execution_count": 5,
   "metadata": {},
   "outputs": [],
   "source": [
    "# Train neural network\n",
    "model.compile( optimizer=\"adam\", \n",
    "               loss=\"categorical_crossentropy\",\n",
    "               metrics=[\"accuracy\"]\n",
    "             )"
   ]
  },
  {
   "cell_type": "code",
   "execution_count": 6,
   "metadata": {},
   "outputs": [
    {
     "name": "stdout",
     "output_type": "stream",
     "text": [
      "Train on 60000 samples\n",
      "Epoch 1/10\n",
      "60000/60000 [==============================] - 35s 578us/sample - loss: 0.2558 - accuracy: 0.9229\n",
      "Epoch 2/10\n",
      "60000/60000 [==============================] - 36s 601us/sample - loss: 0.1094 - accuracy: 0.9673\n",
      "Epoch 3/10\n",
      "60000/60000 [==============================] - 34s 566us/sample - loss: 0.0804 - accuracy: 0.9761\n",
      "Epoch 4/10\n",
      "60000/60000 [==============================] - ETA: 0s - loss: 0.0653 - accuracy: 0.97 - 34s 566us/sample - loss: 0.0653 - accuracy: 0.9797\n",
      "Epoch 5/10\n",
      "60000/60000 [==============================] - 34s 565us/sample - loss: 0.0570 - accuracy: 0.9827\n",
      "Epoch 6/10\n",
      "60000/60000 [==============================] - 34s 562us/sample - loss: 0.0455 - accuracy: 0.9856\n",
      "Epoch 7/10\n",
      "60000/60000 [==============================] - 35s 575us/sample - loss: 0.0430 - accuracy: 0.9860\n",
      "Epoch 8/10\n",
      "60000/60000 [==============================] - 34s 571us/sample - loss: 0.0372 - accuracy: 0.9881\n",
      "Epoch 9/10\n",
      "60000/60000 [==============================] - 34s 564us/sample - loss: 0.0329 - accuracy: 0.9899\n",
      "Epoch 10/10\n",
      "60000/60000 [==============================] - 34s 566us/sample - loss: 0.0292 - accuracy: 0.9901\n"
     ]
    },
    {
     "data": {
      "text/plain": [
       "<tensorflow.python.keras.callbacks.History at 0x2539fbb6108>"
      ]
     },
     "execution_count": 6,
     "metadata": {},
     "output_type": "execute_result"
    }
   ],
   "source": [
    "model.fit(x_train, y_train, epochs=10)"
   ]
  },
  {
   "cell_type": "code",
   "execution_count": 7,
   "metadata": {},
   "outputs": [
    {
     "name": "stdout",
     "output_type": "stream",
     "text": [
      "10000/1 - 1s - loss: 0.0195 - accuracy: 0.9886\n"
     ]
    },
    {
     "data": {
      "text/plain": [
       "[0.03898040668378672, 0.9886]"
      ]
     },
     "execution_count": 7,
     "metadata": {},
     "output_type": "execute_result"
    }
   ],
   "source": [
    "# Evaluation\n",
    "model.evaluate(x_test,  y_test, verbose=2)"
   ]
  },
  {
   "cell_type": "code",
   "execution_count": 10,
   "metadata": {},
   "outputs": [],
   "source": [
    "#Save Model\n",
    "if len(sys.argv) == 2:\n",
    "    filename = sys.argv[1]\n",
    "    model.save(filename)\n",
    "    print(f\"Model saved to {filename}.\")\n"
   ]
  },
  {
   "cell_type": "code",
   "execution_count": null,
   "metadata": {},
   "outputs": [],
   "source": []
  }
 ],
 "metadata": {
  "kernelspec": {
   "display_name": "Python 3",
   "language": "python",
   "name": "python3"
  },
  "language_info": {
   "codemirror_mode": {
    "name": "ipython",
    "version": 3
   },
   "file_extension": ".py",
   "mimetype": "text/x-python",
   "name": "python",
   "nbconvert_exporter": "python",
   "pygments_lexer": "ipython3",
   "version": "3.7.6"
  }
 },
 "nbformat": 4,
 "nbformat_minor": 4
}
